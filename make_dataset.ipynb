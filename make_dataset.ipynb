{
 "cells": [
  {
   "cell_type": "code",
   "execution_count": null,
   "metadata": {},
   "outputs": [],
   "source": [
    "import os\n",
    "import sys\n",
    "import json\n",
    "import logging\n",
    "import multiprocessing\n",
    "\n",
    "\n",
    "import gentle\n",
    "import scipy.io.wavfile as sciwav"
   ]
  },
  {
   "cell_type": "code",
   "execution_count": null,
   "metadata": {},
   "outputs": [],
   "source": [
    "libri_root = '/home/arunav/Desktop/8th-semester/RE/lexical-stress-detection-master/dev-clean/LibriSpeech'\n",
    "\n",
    "out_file = \"/home/arunav/Desktop/8th-semester/RE/lexical-stress-detection-master/dev-clean/LibriSpeech/output.csv\"\n"
   ]
  },
  {
   "cell_type": "code",
   "execution_count": null,
   "metadata": {},
   "outputs": [],
   "source": [
    "out_file = open(out_file, 'w')\n",
    "for top_dir in os.listdir(libri_root):\n",
    "    if top_dir == 'dev-clean':\n",
    "        for speaker in os.listdir(libri_root + '/' + top_dir):\n",
    "            for section in os.listdir(libri_root + '/' + top_dir + '/' + speaker):\n",
    "                trans_file = libri_root + '/' + top_dir + '/' + speaker + '/' + section + '/' + \\\n",
    "                             speaker + '-' + section + '.trans.txt'\n",
    "\n",
    "                with open(trans_file, 'r') as t:\n",
    "                    for line in t:\n",
    "                        id_, transcript = line[:-1].split(' ', 1)\n",
    "                        transcript = transcript.lower()\n",
    "                        audio_file_path = top_dir + '/' + speaker + '/' + section + '/' + \\\n",
    "                                          id_ + '.wav'\n",
    "\n",
    "                        out_file.write('libri_' + id_ + '\\t' + audio_file_path + '\\t' + transcript+'\\n')\n",
    "\n",
    "out_file.close()"
   ]
  },
  {
   "cell_type": "code",
   "execution_count": null,
   "metadata": {},
   "outputs": [],
   "source": [
    "DISFLUENCIES = {'uh', 'um'}  # set of disfluencies\n",
    "RESOURCES = gentle.Resources()\n",
    "N_THREADS = multiprocessing.cpu_count()\n",
    "\n",
    "logging.getLogger().setLevel(\"INFO\")"
   ]
  },
  {
   "cell_type": "code",
   "execution_count": null,
   "metadata": {},
   "outputs": [],
   "source": [
    "\n",
    "def _on_progress(p):\n",
    "    for k, v in p.items():\n",
    "        logging.debug(\"%s: %s\" % (k, v))"
   ]
  },
  {
   "cell_type": "code",
   "execution_count": null,
   "metadata": {},
   "outputs": [],
   "source": [
    "\n",
    "def _get_key_val_pair(line):\n",
    "    line_split = line[:-1].split()\n",
    "    word = line_split[0]\n",
    "    if word[-1] == ')':\n",
    "        word = word.split('(')[0]\n",
    "\n",
    "    word = word.lower()\n",
    "    key = [word]\n",
    "    val = []\n",
    "    for phoneme in line_split[1:]:\n",
    "        val.append(phoneme.lower())\n",
    "        if phoneme[-1].isdigit():\n",
    "            phoneme = phoneme[:-1]\n",
    "\n",
    "        phoneme = phoneme.lower()\n",
    "        key.append(phoneme)\n",
    "\n",
    "    key = \" \".join(key)\n",
    "    val = tuple(val)\n",
    "    return key, val\n"
   ]
  },
  {
   "cell_type": "code",
   "execution_count": null,
   "metadata": {},
   "outputs": [],
   "source": [
    "def _create_dict():\n",
    "    phoneme_alignment_dict = dict()\n",
    "\n",
    "    cmu_file = open('/home/arunav/Desktop/8th-semester/RE/lexical-stress-detection-master/alignment/cmudict-0.7b.txt', 'r')\n",
    "    for line in cmu_file:\n",
    "        key, val = _get_key_val_pair(line)\n",
    "        phoneme_alignment_dict[key] = val\n",
    "\n",
    "    return phoneme_alignment_dict\n",
    "\n",
    "\n"
   ]
  },
  {
   "cell_type": "code",
   "execution_count": null,
   "metadata": {},
   "outputs": [],
   "source": [
    "def align_audio(wav_path, transcript):\n",
    "    with gentle.resampled(wav_path) as wavfile:\n",
    "        print(\"starting alignment {}\".format(wav_path))\n",
    "        aligner = gentle.ForcedAligner(RESOURCES, transcript, nthreads=N_THREADS, disfluency=False,\n",
    "                                       conservative=False, disfluencies=DISFLUENCIES)\n",
    "        result = aligner.transcribe(wavfile, progress_cb=_on_progress, logging=logging)\n",
    "        result_json = json.loads(result.to_json())\n",
    "\n",
    "    return result_json"
   ]
  },
  {
   "cell_type": "code",
   "execution_count": null,
   "metadata": {},
   "outputs": [],
   "source": [
    "input_csv =\"/home/arunav/Desktop/8th-semester/RE/lexical-stress-detection-master/dev-clean/LibriSpeech/output.csv\"\n",
    "phoneme_path = \"/home/arunav/Desktop/8th-semester/RE/lexical-stress-detection-master/dataset\"\n",
    "output_csv = \"/home/arunav/Desktop/8th-semester/RE/lexical-stress-detection-master/output_csv.csv\"\n",
    "wav_root = \"/home/arunav/Desktop/8th-semester/RE/lexical-stress-detection-master/dev-clean/LibriSpeech\""
   ]
  },
  {
   "cell_type": "code",
   "execution_count": null,
   "metadata": {
    "scrolled": false
   },
   "outputs": [],
   "source": [
    "alignment_dict = _create_dict()\n",
    "\n",
    "in_file = open(input_csv, 'r')\n",
    "out_file = open(output_csv, 'w')\n",
    "\n",
    "for line in in_file:\n",
    "    id_, wav_file, transcript = line.split('\\t')\n",
    "    wav_file = wav_root + '/' + wav_file\n",
    "    sr, signal = sciwav.read(wav_file)\n",
    "    print(transcript)\n",
    "    alignment = align_audio(wav_file, transcript)\n",
    "\n",
    "    for word in alignment['words']:\n",
    "        if word['case'] != 'success':\n",
    "            continue\n",
    "\n",
    "        start_time, end_time = word['start'], word['end']\n",
    "        aligned_word = word['alignedWord']\n",
    "        key = [aligned_word.lower()]\n",
    "        for phoneme in word['phones']:\n",
    "            phone = phoneme['phone']\n",
    "            key.append(phone.split('_')[0])\n",
    "\n",
    "        key = ' '.join(key)\n",
    "        phoneme_tuple = alignment_dict.get(key, ())\n",
    "\n",
    "        if len(phoneme_tuple) == 0:\n",
    "            print('word: {} not in dict, skipping...'.format(word))\n",
    "            continue\n",
    "\n",
    "        if len(phoneme_tuple) != len(word['phones']):\n",
    "            print('word: {} not aligned properly, skipping...'.format(word))\n",
    "            continue\n",
    "\n",
    "        # now map phonemes and slice wav\n",
    "        for i, phoneme in enumerate(word['phones']):\n",
    "            phone_start = start_time\n",
    "            phone_end = phone_start + phoneme['duration']\n",
    "            # check if vowel phoneme\n",
    "            if phoneme_tuple[i][-1].isdigit():\n",
    "\n",
    "                file_name = id_ + '_' + aligned_word + '_' + phoneme_tuple[i] + '_' + \\\n",
    "                            str(int(phone_start * 1000)) + '_' + str(int(phone_end * 1000)) + '.wav'\n",
    "\n",
    "                start_frame, end_frame = int(phone_start * sr), int(phone_end * sr)\n",
    "                sciwav.write(phoneme_path + '/' + file_name, sr, signal[start_frame:end_frame])\n",
    "                out_file.write(file_name + '\\t' + id_ + '\\t' + aligned_word + '\\t' + phoneme_tuple[i] + '\\n')\n",
    "\n",
    "            start_time = phone_end\n",
    "\n",
    "    print('done alignment and slicing for file: {}'.format(wav_file))\n",
    "\n",
    "in_file.close()\n",
    "out_file.close()\n",
    "\n"
   ]
  }
 ],
 "metadata": {
  "kernelspec": {
   "display_name": "Python 3",
   "language": "python",
   "name": "python3"
  },
  "language_info": {
   "codemirror_mode": {
    "name": "ipython",
    "version": 3
   },
   "file_extension": ".py",
   "mimetype": "text/x-python",
   "name": "python",
   "nbconvert_exporter": "python",
   "pygments_lexer": "ipython3",
   "version": "3.6.9"
  }
 },
 "nbformat": 4,
 "nbformat_minor": 4
}
